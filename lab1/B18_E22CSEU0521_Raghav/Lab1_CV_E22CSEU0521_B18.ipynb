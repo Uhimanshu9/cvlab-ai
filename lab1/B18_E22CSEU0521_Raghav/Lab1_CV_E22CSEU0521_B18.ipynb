{
  "nbformat": 4,
  "nbformat_minor": 0,
  "metadata": {
    "colab": {
      "provenance": []
    },
    "kernelspec": {
      "name": "python3",
      "display_name": "Python 3"
    },
    "language_info": {
      "name": "python"
    }
  },
  "cells": [
    {
      "cell_type": "code",
      "execution_count": 1,
      "metadata": {
        "colab": {
          "base_uri": "https://localhost:8080/",
          "height": 1670
        },
        "id": "_j-rgFXwxAFB",
        "outputId": "a80536b1-7d51-4c5e-90a6-f05b657025ac"
      },
      "outputs": [
        {
          "output_type": "stream",
          "name": "stdout",
          "text": [
            "Downloading data from https://storage.googleapis.com/tensorflow/tf-keras-datasets/mnist.npz\n",
            "\u001b[1m11490434/11490434\u001b[0m \u001b[32m━━━━━━━━━━━━━━━━━━━━\u001b[0m\u001b[37m\u001b[0m \u001b[1m0s\u001b[0m 0us/step\n",
            "Counts of each digit in the training dataset:\n",
            "Digit 0: 5923\n",
            "Digit 1: 6742\n",
            "Digit 2: 5958\n",
            "Digit 3: 6131\n",
            "Digit 4: 5842\n",
            "Digit 5: 5421\n",
            "Digit 6: 5918\n",
            "Digit 7: 6265\n",
            "Digit 8: 5851\n",
            "Digit 9: 5949\n"
          ]
        },
        {
          "output_type": "display_data",
          "data": {
            "text/plain": [
              "<Figure size 1000x500 with 10 Axes>"
            ],
            "image/png": "[encoded data removed]"
          },
          "metadata": {}
        },
        {
          "output_type": "stream",
          "name": "stdout",
          "text": [
            "\n",
            "Random Forest Classification Report:\n",
            "              precision    recall  f1-score   support\n",
            "\n",
            "           0       0.97      0.99      0.98       980\n",
            "           1       0.99      0.99      0.99      1135\n",
            "           2       0.96      0.97      0.96      1032\n",
            "           3       0.96      0.96      0.96      1010\n",
            "           4       0.97      0.97      0.97       982\n",
            "           5       0.98      0.96      0.97       892\n",
            "           6       0.98      0.98      0.98       958\n",
            "           7       0.97      0.96      0.96      1028\n",
            "           8       0.96      0.95      0.96       974\n",
            "           9       0.96      0.95      0.95      1009\n",
            "\n",
            "    accuracy                           0.97     10000\n",
            "   macro avg       0.97      0.97      0.97     10000\n",
            "weighted avg       0.97      0.97      0.97     10000\n",
            "\n",
            "Random Forest Accuracy: 0.97\n"
          ]
        },
        {
          "output_type": "stream",
          "name": "stderr",
          "text": [
            "/usr/local/lib/python3.11/dist-packages/keras/src/layers/reshaping/flatten.py:37: UserWarning: Do not pass an `input_shape`/`input_dim` argument to a layer. When using Sequential models, prefer using an `Input(shape)` object as the first layer in the model instead.\n",
            "  super().__init__(**kwargs)\n"
          ]
        },
        {
          "output_type": "stream",
          "name": "stdout",
          "text": [
            "Epoch 1/10\n",
            "1500/1500 - 9s - 6ms/step - accuracy: 0.9285 - loss: 0.2514 - val_accuracy: 0.9529 - val_loss: 0.1679\n",
            "Epoch 2/10\n",
            "1500/1500 - 5s - 3ms/step - accuracy: 0.9674 - loss: 0.1072 - val_accuracy: 0.9598 - val_loss: 0.1446\n",
            "Epoch 3/10\n",
            "1500/1500 - 6s - 4ms/step - accuracy: 0.9778 - loss: 0.0696 - val_accuracy: 0.9647 - val_loss: 0.1445\n",
            "Epoch 4/10\n",
            "1500/1500 - 6s - 4ms/step - accuracy: 0.9816 - loss: 0.0591 - val_accuracy: 0.9682 - val_loss: 0.1352\n",
            "Epoch 5/10\n",
            "1500/1500 - 5s - 3ms/step - accuracy: 0.9860 - loss: 0.0444 - val_accuracy: 0.9695 - val_loss: 0.1307\n",
            "Epoch 6/10\n",
            "1500/1500 - 7s - 5ms/step - accuracy: 0.9901 - loss: 0.0322 - val_accuracy: 0.9650 - val_loss: 0.1581\n",
            "Epoch 7/10\n",
            "1500/1500 - 5s - 3ms/step - accuracy: 0.9891 - loss: 0.0380 - val_accuracy: 0.9720 - val_loss: 0.1448\n",
            "Epoch 8/10\n",
            "1500/1500 - 11s - 7ms/step - accuracy: 0.9912 - loss: 0.0322 - val_accuracy: 0.9697 - val_loss: 0.1621\n",
            "Epoch 9/10\n",
            "1500/1500 - 5s - 3ms/step - accuracy: 0.9925 - loss: 0.0230 - val_accuracy: 0.9668 - val_loss: 0.1871\n",
            "Epoch 10/10\n",
            "1500/1500 - 7s - 5ms/step - accuracy: 0.9928 - loss: 0.0249 - val_accuracy: 0.9686 - val_loss: 0.1665\n",
            "\u001b[1m313/313\u001b[0m \u001b[32m━━━━━━━━━━━━━━━━━━━━\u001b[0m\u001b[37m\u001b[0m \u001b[1m1s\u001b[0m 2ms/step\n",
            "\n",
            "MLP Classification Report:\n",
            "              precision    recall  f1-score   support\n",
            "\n",
            "           0       0.98      0.98      0.98       980\n",
            "           1       0.99      0.99      0.99      1135\n",
            "           2       0.96      0.96      0.96      1032\n",
            "           3       0.95      0.97      0.96      1010\n",
            "           4       0.98      0.96      0.97       982\n",
            "           5       0.97      0.95      0.96       892\n",
            "           6       0.98      0.98      0.98       958\n",
            "           7       0.98      0.95      0.96      1028\n",
            "           8       0.95      0.97      0.96       974\n",
            "           9       0.95      0.97      0.96      1009\n",
            "\n",
            "    accuracy                           0.97     10000\n",
            "   macro avg       0.97      0.97      0.97     10000\n",
            "weighted avg       0.97      0.97      0.97     10000\n",
            "\n",
            "MLP Accuracy: 0.97\n"
          ]
        }
      ],
      "source": [
        "import numpy as np\n",
        "import matplotlib.pyplot as plt\n",
        "from tensorflow.keras.datasets import mnist\n",
        "from sklearn.ensemble import RandomForestClassifier\n",
        "from sklearn.metrics import classification_report, accuracy_score\n",
        "from sklearn.model_selection import train_test_split\n",
        "from sklearn.preprocessing import StandardScaler\n",
        "from tensorflow.keras.models import Sequential\n",
        "from tensorflow.keras.layers import Dense, Flatten\n",
        "from tensorflow.keras.utils import to_categorical\n",
        "\n",
        "(x_train, y_train), (x_test, y_test) = mnist.load_data()\n",
        "\n",
        "unique, counts = np.unique(y_train, return_counts=True)\n",
        "print(\"Counts of each digit in the training dataset:\")\n",
        "for digit, count in zip(unique, counts):\n",
        "    print(f\"Digit {digit}: {count}\")\n",
        "\n",
        "fig, axes = plt.subplots(2, 5, figsize=(10, 5))\n",
        "fig.suptitle(\"MNIST Digit Examples\", fontsize=16)\n",
        "for i in range(10):\n",
        "    ax = axes[i // 5, i % 5]\n",
        "    ax.imshow(x_train[y_train == i][0], cmap='gray')\n",
        "    ax.set_title(f\"Digit {i}\")\n",
        "    ax.axis('off')\n",
        "plt.tight_layout()\n",
        "plt.show()\n",
        "\n",
        "x_train_flat = x_train.reshape(x_train.shape[0], -1)\n",
        "x_test_flat = x_test.reshape(x_test.shape[0], -1)\n",
        "\n",
        "scaler = StandardScaler()\n",
        "x_train_flat_scaled = scaler.fit_transform(x_train_flat)\n",
        "x_test_flat_scaled = scaler.transform(x_test_flat)\n",
        "\n",
        "x_train_rf, x_val_rf, y_train_rf, y_val_rf = train_test_split(x_train_flat, y_train, test_size=0.2, random_state=42)\n",
        "\n",
        "rf_model = RandomForestClassifier(n_estimators=100, random_state=42)\n",
        "rf_model.fit(x_train_rf, y_train_rf)\n",
        "\n",
        "y_pred_rf = rf_model.predict(x_test_flat)\n",
        "print(\"\\nRandom Forest Classification Report:\")\n",
        "print(classification_report(y_test, y_pred_rf))\n",
        "print(f\"Random Forest Accuracy: {accuracy_score(y_test, y_pred_rf):.2f}\")\n",
        "\n",
        "x_train_mlp, x_val_mlp, y_train_mlp, y_val_mlp = train_test_split(x_train_flat_scaled, y_train, test_size=0.2, random_state=42)\n",
        "y_train_mlp_cat = to_categorical(y_train_mlp, 10)\n",
        "y_val_mlp_cat = to_categorical(y_val_mlp, 10)\n",
        "y_test_mlp_cat = to_categorical(y_test, 10)\n",
        "\n",
        "mlp_model = Sequential([\n",
        "    Flatten(input_shape=(x_train_flat_scaled.shape[1],)),\n",
        "    Dense(128, activation='relu'),\n",
        "    Dense(64, activation='relu'),\n",
        "    Dense(10, activation='softmax')\n",
        "])\n",
        "\n",
        "mlp_model.compile(optimizer='adam', loss='categorical_crossentropy', metrics=['accuracy'])\n",
        "\n",
        "mlp_model.fit(x_train_mlp, y_train_mlp_cat, validation_data=(x_val_mlp, y_val_mlp_cat), epochs=10, batch_size=32, verbose=2)\n",
        "\n",
        "y_pred_mlp = np.argmax(mlp_model.predict(x_test_flat_scaled), axis=1)\n",
        "print(\"\\nMLP Classification Report:\")\n",
        "print(classification_report(y_test, y_pred_mlp))\n",
        "print(f\"MLP Accuracy: {accuracy_score(y_test, y_pred_mlp):.2f}\")\n"
      ]
    }
  ]
}