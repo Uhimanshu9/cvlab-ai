{
 "cells": [
  {
   "cell_type": "code",
   "execution_count": null,
   "id": "47a38b4b-5cd1-4e7d-abd6-2d624e617b7d",
   "metadata": {},
   "outputs": [],
   "source": [
    "#task 1"
   ]
  },
  {
   "cell_type": "code",
   "execution_count": null,
   "id": "2733118e-de09-4318-83ba-6b1bafe513a4",
   "metadata": {},
   "outputs": [],
   "source": [
    "import cv2\n",
    "import numpy as np\n",
    "from skimage import transform\n"
   ]
  },
  {
   "cell_type": "code",
   "execution_count": null,
   "id": "2296871d-2772-4168-84d0-6cf31d641dce",
   "metadata": {},
   "outputs": [],
   "source": [
    "img = cv2.imread(r\"C:\\Users\\Pranshu Saini\\Desktop\\Picture1.jpg\")\n",
    "cv2.imshow('img', img)\n",
    "\n",
    "cv2.waitKey(0)\n",
    "cv2.destroyAllWindows()"
   ]
  },
  {
   "cell_type": "code",
   "execution_count": 35,
   "id": "f6ed762c-3994-4407-ba90-09a85284e75f",
   "metadata": {},
   "outputs": [],
   "source": [
    "# Linear Interpolation\n",
    "img_linear = cv2.resize(img, (400, 400), interpolation=cv2.INTER_LINEAR)\n",
    "\n",
    "\n",
    "\n",
    "cv2.imshow('Linear Interpolation', img_linear)\n",
    "\n",
    "cv2.waitKey(0)\n",
    "cv2.destroyAllWindows()"
   ]
  },
  {
   "cell_type": "code",
   "execution_count": 36,
   "id": "7a3bf49e-b5e3-4316-8846-2d7455c59eb1",
   "metadata": {},
   "outputs": [],
   "source": [
    "img_nearest = cv2.resize(img, (400, 400), interpolation=cv2.INTER_NEAREST)\n",
    "cv2.imshow('Nearest Neighbors', img_nearest)\n",
    "cv2.waitKey(0)\n",
    "cv2.destroyAllWindows()"
   ]
  },
  {
   "cell_type": "code",
   "execution_count": 37,
   "id": "e300e721-e54d-4e0d-821d-b8d716c946b1",
   "metadata": {},
   "outputs": [],
   "source": [
    "img_polynomial = transform.resize(img, (400, 400), mode='reflect')\n",
    "cv2.imshow('img_polynomial', img_polynomial)\n",
    "\n",
    "cv2.waitKey(0)\n",
    "cv2.destroyAllWindows()"
   ]
  },
  {
   "cell_type": "code",
   "execution_count": 38,
   "id": "c87f8c93-354c-4eca-9c13-03aa5df0bb26",
   "metadata": {},
   "outputs": [],
   "source": [
    "img_box_blur = cv2.blur(img, (6, 6))\n",
    "cv2.imshow('Box Blurring', img_box_blur)\n",
    "cv2.waitKey(0)\n",
    "cv2.destroyAllWindows()"
   ]
  },
  {
   "cell_type": "code",
   "execution_count": 39,
   "id": "db292bed-b7a2-445d-985a-4f62719f0428",
   "metadata": {},
   "outputs": [],
   "source": [
    "img_gaussian_blur = cv2.GaussianBlur(img, (7,7), 0)\n",
    "cv2.imshow('Gaussian Blurring', img_gaussian_blur)\n",
    "cv2.waitKey(0)\n",
    "cv2.destroyAllWindows()"
   ]
  },
  {
   "cell_type": "code",
   "execution_count": 40,
   "id": "fdec6f81-b16f-432d-90f3-17b50b8c1ea7",
   "metadata": {},
   "outputs": [],
   "source": [
    "img_gray = cv2.cvtColor(img, cv2.COLOR_BGR2GRAY)\n",
    "img_adaptive_blur = cv2.adaptiveThreshold(img_gray, 255, cv2.ADAPTIVE_THRESH_GAUSSIAN_C, cv2.THRESH_BINARY, 11, 2)\n",
    "cv2.imshow('Adaptive Blurring', img_adaptive_blur)\n",
    "cv2.waitKey(0)\n",
    "cv2.destroyAllWindows()"
   ]
  },
  {
   "cell_type": "code",
   "execution_count": 42,
   "id": "9acacc08-6239-4c26-97aa-6ba07aca3892",
   "metadata": {},
   "outputs": [],
   "source": [
    "#task2"
   ]
  },
  {
   "cell_type": "code",
   "execution_count": 47,
   "id": "e3092757-dcf7-4b4a-a289-88d8dd871a79",
   "metadata": {},
   "outputs": [],
   "source": [
    "import numpy as np\n",
    "import pandas as pd\n",
    "import matplotlib.pyplot as plt\n",
    "from sklearn.model_selection import train_test_split, cross_val_score, StratifiedKFold\n",
    "from sklearn.metrics import accuracy_score, precision_score, recall_score, f1_score, confusion_matrix, roc_curve, auc\n",
    "from sklearn.naive_bayes import GaussianNB\n",
    "from sklearn.svm import SVC\n",
    "from sklearn.ensemble import RandomForestClassifier, AdaBoostClassifier\n",
    "from sklearn.neural_network import MLPClassifier\n",
    "from tensorflow.keras.datasets import mnist\n"
   ]
  },
  {
   "cell_type": "code",
   "execution_count": 48,
   "id": "140c0c34-8c08-49b8-aa25-fa91c9e06e99",
   "metadata": {},
   "outputs": [],
   "source": [
    "(X_train, y_train), (X_test, y_test) = mnist.load_data()\n",
    "\n",
    "X_train = X_train.reshape(X_train.shape[0], -1).astype('float32') / 255.0\n",
    "X_test = X_test.reshape(X_test.shape[0], -1).astype('float32') / 255.0\n"
   ]
  },
  {
   "cell_type": "code",
   "execution_count": 49,
   "id": "75d9d9d8-2c76-4e49-8591-741734743e08",
   "metadata": {},
   "outputs": [],
   "source": [
    "svm_model = SVC(kernel='linear', random_state=42)\n"
   ]
  },
  {
   "cell_type": "code",
   "execution_count": 50,
   "id": "d151f69d-0c53-4ed9-92ed-6b2576c0ad4f",
   "metadata": {},
   "outputs": [],
   "source": [
    "rf_model = RandomForestClassifier(n_estimators=100, random_state=42)\n"
   ]
  },
  {
   "cell_type": "code",
   "execution_count": null,
   "id": "5b14402a-ab1c-417d-a67d-694049654b40",
   "metadata": {},
   "outputs": [
    {
     "name": "stdout",
     "output_type": "stream",
     "text": [
      "SVM Model Evaluation\n"
     ]
    }
   ],
   "source": [
    "kfold = StratifiedKFold(n_splits=5, shuffle=True, random_state=42)\n",
    "\n",
    "def evaluate_model(model, X, y):\n",
    "    accuracies = cross_val_score(model, X, y, cv=kfold, scoring='accuracy')\n",
    "    print(f'Accuracy: {accuracies.mean()}')\n",
    "\n",
    "print(\"SVM Model Evaluation\")\n",
    "evaluate_model(svm_model, X_train, y_train)\n",
    "\n",
    "print(\"Random Forest Model Evaluation\")\n",
    "evaluate_model(rf_model, X_train, y_train)\n"
   ]
  },
  {
   "cell_type": "code",
   "execution_count": null,
   "id": "bdaaaff1-5f08-4ef1-a6cb-82f87c27c938",
   "metadata": {},
   "outputs": [],
   "source": [
    "# Fit models on the training set\n",
    "svm_model.fit(X_train, y_train)\n",
    "rf_model.fit(X_train, y_train)\n",
    "\n",
    "# Make predictions on test data\n",
    "svm_pred = svm_model.predict(X_test)\n",
    "rf_pred = rf_model.predict(X_test)\n"
   ]
  },
  {
   "cell_type": "code",
   "execution_count": null,
   "id": "f34acf68-647d-493d-823d-3a00a6ca5bd1",
   "metadata": {},
   "outputs": [],
   "source": [
    "print(\"SVM Metrics:\")\n",
    "print(f'Accuracy: {accuracy_score(y_test, svm_pred)}')\n",
    "print(f'Precision: {precision_score(y_test, svm_pred, average=\"macro\")}')\n",
    "print(f'Recall: {recall_score(y_test, svm_pred, average=\"macro\")}')\n",
    "print(f'F-Measure: {f1_score(y_test, svm_pred, average=\"macro\")}')\n",
    "\n",
    "print(\"Random Forest Metrics:\")\n",
    "print(f'Accuracy: {accuracy_score(y_test, rf_pred)}')\n",
    "print(f'Precision: {precision_score(y_test, rf_pred, average=\"macro\")}')\n",
    "print(f'Recall: {recall_score(y_test, rf_pred, average=\"macro\")}')\n",
    "print(f'F-Measure: {f1_score(y_test, rf_pred, average=\"macro\")}')\n"
   ]
  },
  {
   "cell_type": "code",
   "execution_count": null,
   "id": "4a66dfc5-f639-45e1-8d3b-0be2defc75d9",
   "metadata": {},
   "outputs": [],
   "source": [
    "print(\"SVM Confusion Matrix:\")\n",
    "print(confusion_matrix(y_test, svm_pred))\n",
    "\n",
    "print(\"Random Forest Confusion Matrix:\")\n",
    "print(confusion_matrix(y_test, rf_pred))\n"
   ]
  },
  {
   "cell_type": "code",
   "execution_count": null,
   "id": "20685344-c0b0-4ed1-9ec5-8bb98197b934",
   "metadata": {},
   "outputs": [],
   "source": [
    "# SVM ROC and AUC\n",
    "fpr_svm, tpr_svm, _ = roc_curve(y_test, svm_model.decision_function(X_test), pos_label=1)\n",
    "roc_auc_svm = auc(fpr_svm, tpr_svm)\n",
    "\n",
    "# Random Forest ROC and AUC\n",
    "fpr_rf, tpr_rf, _ = roc_curve(y_test, rf_model.predict_proba(X_test)[:, 1], pos_label=1)\n",
    "roc_auc_rf = auc(fpr_rf, tpr_rf)\n",
    "\n",
    "# Plot ROC curves\n",
    "plt.figure(figsize=(8, 6))\n",
    "plt.plot(fpr_svm, tpr_svm, color='blue', lw=2, label=f'SVM ROC curve (AUC = {roc_auc_svm:.2f})')\n",
    "plt.plot(fpr_rf, tpr_rf, color='red', lw=2, label=f'Random Forest ROC curve (AUC = {roc_auc_rf:.2f})')\n",
    "plt.plot([0, 1], [0, 1], color='gray', linestyle='--')\n",
    "plt.xlabel('False Positive Rate')\n",
    "plt.ylabel('True Positive Rate')\n",
    "plt.title('Receiver Operating Characteristic (ROC) Curve')\n",
    "plt.legend(loc='lower right')\n",
    "plt.show()\n"
   ]
  },
  {
   "cell_type": "code",
   "execution_count": null,
   "id": "6e804ea1-bec9-4116-999b-0126d3591e7f",
   "metadata": {},
   "outputs": [],
   "source": []
  }
 ],
 "metadata": {
  "kernelspec": {
   "display_name": "Python 3 (ipykernel)",
   "language": "python",
   "name": "python3"
  },
  "language_info": {
   "codemirror_mode": {
    "name": "ipython",
    "version": 3
   },
   "file_extension": ".py",
   "mimetype": "text/x-python",
   "name": "python",
   "nbconvert_exporter": "python",
   "pygments_lexer": "ipython3",
   "version": "3.12.3"
  }
 },
 "nbformat": 4,
 "nbformat_minor": 5
}
