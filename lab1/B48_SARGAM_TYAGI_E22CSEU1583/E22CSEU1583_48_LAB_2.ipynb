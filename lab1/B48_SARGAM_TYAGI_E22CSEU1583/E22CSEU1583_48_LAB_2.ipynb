{
 "cells": [
  {
   "cell_type": "code",
   "execution_count": 1,
   "metadata": {},
   "outputs": [],
   "source": [
    "import cv2\n",
    "import numpy as np"
   ]
  },
  {
   "cell_type": "code",
   "execution_count": 3,
   "metadata": {},
   "outputs": [],
   "source": [
    "img = cv2.imread('Picture1.jpg')"
   ]
  },
  {
   "cell_type": "code",
   "execution_count": 7,
   "metadata": {},
   "outputs": [],
   "source": [
    "resized_linear = cv2.resize(img, (400, 800), interpolation=cv2.INTER_LINEAR)\n",
    "\n",
    "resized_nearest = cv2.resize(img, (300, 600), interpolation=cv2.INTER_NEAREST)\n",
    "\n",
    "resized_polynomial = cv2.resize(img, (250, 500), interpolation=cv2.INTER_CUBIC)"
   ]
  },
  {
   "cell_type": "code",
   "execution_count": 8,
   "metadata": {},
   "outputs": [],
   "source": [
    "cv2.imshow(\"Linear Interpolation\", resized_linear)\n",
    "cv2.imshow(\"Nearest Neighbors\", resized_nearest)\n",
    "cv2.imshow(\"Polynomial Interpolation\", resized_polynomial)\n",
    "\n",
    "cv2.waitKey(0)\n",
    "cv2.destroyAllWindows()"
   ]
  },
  {
   "cell_type": "code",
   "execution_count": 9,
   "metadata": {},
   "outputs": [],
   "source": [
    "box_blurred = cv2.blur(img, (5, 5)) \n",
    "gaussian_blurred = cv2.GaussianBlur(img, (5, 5), 0)\n",
    "adaptive_blurred = cv2.adaptiveThreshold(cv2.cvtColor(img, cv2.COLOR_BGR2GRAY), 255, cv2.ADAPTIVE_THRESH_MEAN_C, cv2.THRESH_BINARY, 11, 2)\n"
   ]
  },
  {
   "cell_type": "code",
   "execution_count": 10,
   "metadata": {},
   "outputs": [],
   "source": [
    "cv2.imshow(\"Box Blurred\", box_blurred)\n",
    "cv2.imshow(\"Gaussian Blurred\", gaussian_blurred)\n",
    "cv2.imshow(\"Adaptive Blurred\", adaptive_blurred)\n",
    "\n",
    "cv2.waitKey(0)\n",
    "cv2.destroyAllWindows()"
   ]
  }
 ],
 "metadata": {
  "kernelspec": {
   "display_name": "Python 3",
   "language": "python",
   "name": "python3"
  },
  "language_info": {
   "codemirror_mode": {
    "name": "ipython",
    "version": 3
   },
   "file_extension": ".py",
   "mimetype": "text/x-python",
   "name": "python",
   "nbconvert_exporter": "python",
   "pygments_lexer": "ipython3",
   "version": "3.12.4"
  }
 },
 "nbformat": 4,
 "nbformat_minor": 2
}
