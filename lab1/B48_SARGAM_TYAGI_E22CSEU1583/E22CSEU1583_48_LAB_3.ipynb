{
 "cells": [
  {
   "cell_type": "code",
   "execution_count": 11,
   "metadata": {},
   "outputs": [],
   "source": [
    "import cv2 \n",
    "import numpy as np\n"
   ]
  },
  {
   "cell_type": "code",
   "execution_count": 12,
   "metadata": {},
   "outputs": [],
   "source": [
    "image = cv2.imread(\"Picture1.jpg\")\n",
    "test_image = cv2.imread(\"test_image.png\")\n",
    "cv2.imshow(\"ORIGINAL IMAGE\",test_image)\n",
    "cv2.waitKey(0)\n",
    "cv2.destroyAllWindows()"
   ]
  },
  {
   "cell_type": "code",
   "execution_count": 6,
   "metadata": {},
   "outputs": [
    {
     "name": "stdout",
     "output_type": "stream",
     "text": [
      "(512, 512, 3)\n"
     ]
    }
   ],
   "source": [
    "print(image.shape)\n",
    "height , width , channels = image.shape"
   ]
  },
  {
   "cell_type": "code",
   "execution_count": 8,
   "metadata": {},
   "outputs": [
    {
     "name": "stdout",
     "output_type": "stream",
     "text": [
      "TOTAL NUMBER OF PIXELS: 786432\n"
     ]
    }
   ],
   "source": [
    "number_of_pixels = height * width * channels\n",
    "print(\"TOTAL NUMBER OF PIXELS:\",number_of_pixels)"
   ]
  },
  {
   "cell_type": "code",
   "execution_count": 27,
   "metadata": {},
   "outputs": [],
   "source": [
    "grayscale_pic = cv2.cvtColor(test_image,cv2.COLOR_BGR2GRAY)\n",
    "cv2.imshow(\"GRAYSCALE IMAGE\",grayscale_pic)\n",
    "cv2.waitKey(0)\n",
    "cv2.destroyAllWindows()"
   ]
  },
  {
   "cell_type": "code",
   "execution_count": 28,
   "metadata": {},
   "outputs": [],
   "source": [
    "_ , bin_image = cv2.threshold(grayscale_pic,127,255,cv2.THRESH_BINARY)\n",
    "cv2.imshow(\"BINARY IMAGE\",bin_image)\n",
    "cv2.waitKey(0)\n",
    "cv2.destroyAllWindows()"
   ]
  },
  {
   "cell_type": "code",
   "execution_count": 15,
   "metadata": {},
   "outputs": [
    {
     "data": {
      "text/plain": [
       "<function destroyAllWindows>"
      ]
     },
     "execution_count": 15,
     "metadata": {},
     "output_type": "execute_result"
    }
   ],
   "source": [
    "sobelx = cv2.Sobel(grayscale_pic, cv2.CV_64F, 1, 0, ksize=3)\n",
    "sobely = cv2.Sobel(grayscale_pic, cv2.CV_64F, 0, 1, ksize=3)\n",
    "sobel = cv2.magnitude(sobelx, sobely)\n",
    "cv2.imshow(\"sobel_edges.jpg\", sobel)\n",
    "cv2.waitKey(0)\n",
    "cv2.destroyAllWindows"
   ]
  },
  {
   "cell_type": "code",
   "execution_count": 19,
   "metadata": {},
   "outputs": [],
   "source": [
    "\n",
    "kernelx = np.array([[-1, 0, 1], [-1, 0, 1], [-1, 0, 1]])\n",
    "kernely = np.array([[-1, -1, -1], [0, 0, 0], [1, 1, 1]])\n",
    "prewittx = cv2.filter2D(grayscale_pic.astype(np.float32), -1, kernelx)  # Convert to float32\n",
    "prewitty = cv2.filter2D(grayscale_pic.astype(np.float32), -1, kernely)  # Convert to float32\n",
    "prewitt = cv2.magnitude(prewittx, prewitty)\n",
    "cv2.imshow(\"prewitt_edges\", prewitt)\n",
    "cv2.waitKey(0)\n",
    "cv2.destroyAllWindows()"
   ]
  },
  {
   "cell_type": "code",
   "execution_count": 17,
   "metadata": {},
   "outputs": [
    {
     "data": {
      "text/plain": [
       "<function destroyAllWindows>"
      ]
     },
     "execution_count": 17,
     "metadata": {},
     "output_type": "execute_result"
    }
   ],
   "source": [
    "canny_edges = cv2.Canny(grayscale_pic, 100, 200)\n",
    "cv2.imshow(\"canny_edges.jpg\", canny_edges)\n",
    "cv2.waitKey(0)\n",
    "cv2.destroyAllWindows"
   ]
  },
  {
   "cell_type": "code",
   "execution_count": 24,
   "metadata": {},
   "outputs": [
    {
     "data": {
      "text/plain": [
       "<function destroyAllWindows>"
      ]
     },
     "execution_count": 24,
     "metadata": {},
     "output_type": "execute_result"
    }
   ],
   "source": [
    "#IMG SEGMENTATION\n",
    "_, global_thresh = cv2.threshold(grayscale_pic, 127, 255, cv2.THRESH_BINARY)\n",
    "cv2.imshow(\"global_threshold.jpg\", global_thresh)\n",
    "cv2.waitKey(0)\n",
    "cv2.destroyAllWindows\n"
   ]
  },
  {
   "cell_type": "code",
   "execution_count": 29,
   "metadata": {},
   "outputs": [
    {
     "data": {
      "text/plain": [
       "<function destroyAllWindows>"
      ]
     },
     "execution_count": 29,
     "metadata": {},
     "output_type": "execute_result"
    }
   ],
   "source": [
    "adaptive_thresh = cv2.adaptiveThreshold(grayscale_pic, 255, cv2.ADAPTIVE_THRESH_GAUSSIAN_C,cv2.THRESH_BINARY, 11, 2)\n",
    "cv2.imshow(\"adaptive_threshold.jpg\", adaptive_thresh)\n",
    "cv2.waitKey(0)\n",
    "cv2.destroyAllWindows"
   ]
  },
  {
   "cell_type": "code",
   "execution_count": null,
   "metadata": {},
   "outputs": [
    {
     "data": {
      "text/plain": [
       "<function destroyAllWindows>"
      ]
     },
     "execution_count": 26,
     "metadata": {},
     "output_type": "execute_result"
    }
   ],
   "source": []
  }
 ],
 "metadata": {
  "kernelspec": {
   "display_name": "Python 3",
   "language": "python",
   "name": "python3"
  },
  "language_info": {
   "codemirror_mode": {
    "name": "ipython",
    "version": 3
   },
   "file_extension": ".py",
   "mimetype": "text/x-python",
   "name": "python",
   "nbconvert_exporter": "python",
   "pygments_lexer": "ipython3",
   "version": "3.12.4"
  }
 },
 "nbformat": 4,
 "nbformat_minor": 2
}
