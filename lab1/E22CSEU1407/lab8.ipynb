{
  "cells": [
    {
      "cell_type": "code",
      "execution_count": null,
      "metadata": {
        "id": "wBykzqAR-fbt"
      },
      "outputs": [],
      "source": [
        "import cv2\n",
        "import numpy as np\n",
        "import matplotlib.pyplot as plt\n",
        "from skimage import filters, color, exposure\n",
        "from skimage.feature import hog\n",
        "from torchvision import models, transforms\n",
        "import torch\n",
        "import torch.nn as nn\n",
        "import torch.optim as optim\n",
        "import torch.utils.data as data\n",
        "from torchvision.datasets import CIFAR100, MNIST"
      ]
    },
    {
      "cell_type": "code",
      "execution_count": null,
      "metadata": {
        "id": "zNinSFpq-knJ"
      },
      "outputs": [],
      "source": [
        "def blob_detection(image_path):\n",
        "    image = cv2.imread(image_path, cv2.IMREAD_GRAYSCALE)\n",
        "    image = cv2.resize(image, (256, 256))\n",
        "\n",
        "\n",
        "    log_blobs = filters.gaussian(image, sigma=2) - filters.gaussian(image, sigma=4)\n",
        "\n",
        "\n",
        "    dog_blobs = filters.difference_of_gaussians(image, 1, 4)\n",
        "\n",
        "\n",
        "    fd, hog_image = hog(image, visualize=True)\n",
        "\n",
        "    fig, axes = plt.subplots(1, 4, figsize=(12, 6))\n",
        "    axes[0].imshow(image, cmap='gray'); axes[0].set_title(\"Original\")\n",
        "    axes[1].imshow(log_blobs, cmap='gray'); axes[1].set_title(\"LoG\")\n",
        "    axes[2].imshow(dog_blobs, cmap='gray'); axes[2].set_title(\"DoG\")\n",
        "    axes[3].imshow(hog_image, cmap='gray'); axes[3].set_title(\"HoG\")\n",
        "    plt.show()"
      ]
    },
    {
      "cell_type": "code",
      "execution_count": null,
      "metadata": {
        "id": "zbAayccn_AVr"
      },
      "outputs": [],
      "source": [
        "def train_resnet(model, train_loader, test_loader, epochs=10):\n",
        "    device = torch.device(\"cuda\" if torch.cuda.is_available() else \"cpu\")\n",
        "    model = model.to(device)\n",
        "    criterion = nn.CrossEntropyLoss()\n",
        "    optimizer = optim.Adam(model.parameters(), lr=0.001)\n",
        "\n",
        "    for epoch in range(epochs):\n",
        "        model.train()\n",
        "        total_loss = 0\n",
        "        for images, labels in train_loader:\n",
        "            images, labels = images.to(device), labels.to(device)\n",
        "            optimizer.zero_grad()\n",
        "            outputs = model(images)\n",
        "            loss = criterion(outputs, labels)\n",
        "            loss.backward()\n",
        "            optimizer.step()\n",
        "            total_loss += loss.item()\n",
        "        print(f\"Epoch {epoch+1}, Loss: {total_loss/len(train_loader)}\")\n",
        "\n",
        "\n",
        "    model.eval()\n",
        "    correct, total = 0, 0\n",
        "    with torch.no_grad():\n",
        "        for images, labels in test_loader:\n",
        "            images, labels = images.to(device), labels.to(device)\n",
        "            outputs = model(images)\n",
        "            _, predicted = torch.max(outputs, 1)\n",
        "            total += labels.size(0)\n",
        "            correct += (predicted == labels).sum().item()\n",
        "    print(f'Accuracy: {100 * correct / total:.2f}%')\n",
        "\n",
        "transform = transforms.Compose([\n",
        "    transforms.ToTensor(),\n",
        "    transforms.Normalize((0.5,), (0.5,))\n",
        "])\n"
      ]
    },
    {
      "cell_type": "code",
      "execution_count": null,
      "metadata": {
        "colab": {
          "background_save": true,
          "base_uri": "https://localhost:8080/"
        },
        "id": "8kaKztei_Klm",
        "outputId": "665342a3-9e6b-40c2-fc6d-b0b3b2452f34"
      },
      "outputs": [
        {
          "name": "stderr",
          "output_type": "stream",
          "text": [
            "100%|██████████| 169M/169M [00:03<00:00, 48.9MB/s]\n",
            "/usr/local/lib/python3.11/dist-packages/torchvision/models/_utils.py:208: UserWarning: The parameter 'pretrained' is deprecated since 0.13 and may be removed in the future, please use 'weights' instead.\n",
            "  warnings.warn(\n",
            "/usr/local/lib/python3.11/dist-packages/torchvision/models/_utils.py:223: UserWarning: Arguments other than a weight enum or `None` for 'weights' are deprecated since 0.13 and may be removed in the future. The current behavior is equivalent to passing `weights=ResNet18_Weights.IMAGENET1K_V1`. You can also use `weights=ResNet18_Weights.DEFAULT` to get the most up-to-date weights.\n",
            "  warnings.warn(msg)\n",
            "Downloading: \"https://download.pytorch.org/models/resnet18-f37072fd.pth\" to /root/.cache/torch/hub/checkpoints/resnet18-f37072fd.pth\n",
            "100%|██████████| 44.7M/44.7M [00:00<00:00, 112MB/s]\n"
          ]
        }
      ],
      "source": [
        "trainset = CIFAR100(root='./data', train=True, download=True, transform=transform)\n",
        "testset = CIFAR100(root='./data', train=False, download=True, transform=transform)\n",
        "train_loader = data.DataLoader(trainset, batch_size=64, shuffle=True)\n",
        "test_loader = data.DataLoader(testset, batch_size=64, shuffle=False)\n",
        "\n",
        "resnet18 = models.resnet18(pretrained=True)\n",
        "resnet18.fc = nn.Linear(resnet18.fc.in_features, 100)\n",
        "train_resnet(resnet18, train_loader, test_loader)\n",
        "\n",
        "resnet34 = models.resnet34(pretrained=True)\n",
        "resnet34.fc = nn.Linear(resnet34.fc.in_features, 100)\n",
        "train_resnet(resnet34, train_loader, test_loader)"
      ]
    },
    {
      "cell_type": "code",
      "execution_count": null,
      "metadata": {
        "id": "U6Xm4acq_PrM"
      },
      "outputs": [],
      "source": []
    }
  ],
  "metadata": {
    "colab": {
      "provenance": []
    },
    "kernelspec": {
      "display_name": "Python 3",
      "name": "python3"
    },
    "language_info": {
      "name": "python"
    }
  },
  "nbformat": 4,
  "nbformat_minor": 0
}