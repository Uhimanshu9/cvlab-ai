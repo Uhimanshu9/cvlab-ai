
#task1
import cv2
import numpy as np
from google.colab.patches import cv2_imshow

# Load an example image
image = cv2.imread('/content/lena_img.jpg')

# Check if the image is loaded successfully
if image is None:
    print("Error: Could not load the image. Ensure 'example.jpg' exists in the directory.")
    exit()

# 1. Image Resizing
# Linear Interpolation
linear_resized = cv2.resize(image, (100, 100), interpolation=cv2.INTER_LINEAR)

# Nearest Neighbors
nearest_resized = cv2.resize(image, (100, 100), interpolation=cv2.INTER_NEAREST)

# Polynomial Interpolation (Cubic)
polynomial_resized = cv2.resize(image, (100, 100), interpolation=cv2.INTER_CUBIC)

# 2. Image Blurring
# Box Blurring
box_blurred = cv2.blur(image, (5, 5))

# Gaussian Blurring
gaussian_blurred = cv2.GaussianBlur(image, (5, 5), 0)

# Adaptive Blurring (Median)
adaptive_blurred = cv2.medianBlur(image, 5)

# Display the results
print("Original Image:")
cv2_imshow(image)

print("Linear Resized:")
cv2_imshow(linear_resized)

print("Nearest Neighbors Resized:")
cv2_imshow(nearest_resized)

print("Polynomial Resized:")
cv2_imshow(polynomial_resized)

print("Box Blurred:")
cv2_imshow(box_blurred)

print("Gaussian Blurred:")
cv2_imshow(gaussian_blurred)

print("Adaptive Blurred:")
cv2_imshow(adaptive_blurred)


#task2
from keras.datasets import mnist
from sklearn.model_selection import train_test_split, KFold, cross_val_score
from sklearn.naive_bayes import GaussianNB
from sklearn.ensemble import RandomForestClassifier
from sklearn.metrics import accuracy_score, precision_score, recall_score, f1_score, confusion_matrix, roc_auc_score, roc_curve
import numpy as np
import matplotlib.pyplot as plt

# Load the MNIST dataset
(X, y), (X_test, y_test) = mnist.load_data(path="mnist.npz")

# Flatten the images for compatibility with classifiers
X = X.reshape(X.shape[0], -1)
X_test = X_test.reshape(X_test.shape[0], -1)

# Normalize the data to [0, 1] range
X = X / 255.0
X_test = X_test / 255.0

# Train-test split (80-20 split for training and testing)
X_train, X_val, y_train, y_val = train_test_split(X, y, test_size=0.2, random_state=42)

# K-Fold Cross Validation
kf = KFold(n_splits=5, shuffle=True, random_state=42)

# Naive Bayes Model with Cross Validation
nb_model = GaussianNB()
nb_cv_scores = cross_val_score(nb_model, X_train, y_train, cv=kf, scoring='accuracy')
print(f"Naive Bayes Cross-Validation Accuracy: {nb_cv_scores.mean():.2f} ± {nb_cv_scores.std():.2f}")

# Random Forest Model with Cross Validation
rf_model = RandomForestClassifier(random_state=42)
rf_cv_scores = cross_val_score(rf_model, X_train, y_train, cv=kf, scoring='accuracy')
print(f"Random Forest Cross-Validation Accuracy: {rf_cv_scores.mean():.2f} ± {rf_cv_scores.std():.2f}")

# Train and evaluate the models on validation set (80-20 split) using standard train-test split
# Naive Bayes Model
nb_model.fit(X_train, y_train)
y_pred_nb = nb_model.predict(X_val)

# Random Forest Model
rf_model.fit(X_train, y_train)
y_pred_rf = rf_model.predict(X_val)

# Evaluation Metrics for both models
def evaluate_model(y_true, y_pred, model_name):
    print(f"Results for {model_name}:")
    print(f"Accuracy: {accuracy_score(y_true, y_pred):.2f}")
    print(f"Precision: {precision_score(y_true, y_pred, average='weighted'):.2f}")
    print(f"Recall: {recall_score(y_true, y_pred, average='weighted'):.2f}")
    print(f"F-Measure: {f1_score(y_true, y_pred, average='weighted'):.2f}")
    print(f"Confusion Matrix:\n{confusion_matrix(y_true, y_pred)}")
    print()

# Evaluate models
evaluate_model(y_val, y_pred_nb, "Naive Bayes")
evaluate_model(y_val, y_pred_rf, "Random Forest")

# ROC and AUC for Random Forest
y_proba_rf = rf_model.predict_proba(X_val)
roc_auc = roc_auc_score(y_val, y_proba_rf, multi_class="ovr")
print(f"ROC AUC for Random Forest: {roc_auc:.2f}")

# Plot ROC Curve for Random Forest (For class 0)
fpr, tpr, _ = roc_curve(y_val, y_proba_rf[:, 0], pos_label=0)
plt.figure()
plt.plot(fpr, tpr, label="Random Forest (AUC = %.2f)" % roc_auc)
plt.xlabel("False Positive Rate")
plt.ylabel("True Positive Rate")
plt.title("ROC Curve")
plt.legend()
plt.show()

