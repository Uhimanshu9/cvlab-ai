{
  "nbformat": 4,
  "nbformat_minor": 0,
  "metadata": {
    "colab": {
      "provenance": []
    },
    "kernelspec": {
      "name": "python3",
      "display_name": "Python 3"
    },
    "language_info": {
      "name": "python"
    }
  },
  "cells": [
    {
      "cell_type": "code",
      "execution_count": null,
      "metadata": {
        "id": "0K2C2X8zv7EI"
      },
      "outputs": [],
      "source": [
        "import cv2\n",
        "import numpy as np\n",
        "\n",
        "def process_image(image_path):\n",
        "    # 1. Read the image\n",
        "    image_bgr = cv2.imread(image_path)\n",
        "\n",
        "                # 2. Display the image\n",
        "                    cv2.imshow('Original Image', image_bgr)\n",
        "                        cv2.waitKey(0)\n",
        "                            cv2.destroyAllWindows()\n",
        "\n",
        "                                    # 3. Extract Image size\n",
        "                                        height, width, channels = image_bgr.shape\n",
        "                                            print(f\"Image Size: Width={width}, Height={height}, Channels={channels}\")\n",
        "\n",
        "                                                    # 4. Calculate Image pixels\n",
        "                                                        total_pixels = height * width\n",
        "                                                            print(f\"Total Pixels: {total_pixels}\")\n",
        "\n",
        "                                                                    # 5. Convert BGR to RGB\n",
        "                                                                        image_rgb = cv2.cvtColor(image_bgr, cv2.COLOR_BGR2RGB)\n",
        "                                                                            cv2.imwrite('image_rgb.png', image_rgb)\n",
        "\n",
        "                                                                                    # Convert RGB to Grayscale\n",
        "                                                                                        image_gray = cv2.cvtColor(image_rgb, cv2.COLOR_RGB2GRAY)\n",
        "                                                                                            cv2.imwrite('image_gray.png', image_gray)\n",
        "\n",
        "                                                                                                    # 6. Convert RGB to Binary using a threshold\n",
        "                                                                                                        threshold_value = 128\n",
        "                                                                                                            _, image_binary = cv2.threshold(image_gray, threshold_value, 255, cv2.THRESH_BINARY)\n",
        "                                                                                                                cv2.imwrite('image_binary.png', image_binary)\n",
        "\n",
        "                                                                                                                        # Counting black pixels in binary image\n",
        "                                                                                                                            black_pixels = np.sum(image_binary == 0)\n",
        "                                                                                                                                print(f\"Total Black Pixels: {black_pixels}\")\n",
        "                                                                                                                                    print(f\"Size of Image (in pixels): {total_pixels}\")\n",
        "\n",
        "                                                                                                                                    # Example Usage\n",
        "                                                                                                                                    process_image('input_image.jpg')"
      ]
    }
  ]
}