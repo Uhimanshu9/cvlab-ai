{
  "nbformat": 4,
  "nbformat_minor": 0,
  "metadata": {
    "colab": {
      "provenance": []
    },
    "kernelspec": {
      "name": "python3",
      "display_name": "Python 3"
    },
    "language_info": {
      "name": "python"
    }
  },
  "cells": [
    {
      "cell_type": "code",
      "execution_count": 2,
      "metadata": {
        "id": "xR2tCHh7zndP"
      },
      "outputs": [],
      "source": [
        "import cv2\n",
        "import numpy as np\n",
        "import matplotlib.pyplot as plt\n",
        "from tensorflow import keras\n",
        "from tensorflow.keras import layers\n",
        "from tensorflow.keras.datasets import mnist, cifar10\n",
        "from sklearn.metrics import classification_report, confusion_matrix, roc_curve, auc\n",
        "from sklearn.model_selection import train_test_split\n",
        "import tensorflow as tf\n"
      ]
    },
    {
      "cell_type": "code",
      "source": [
        "\n",
        "def compress_image(image_path, output_path_jpeg, output_path_png, quality=30):\n",
        "    # Read the image\n",
        "    img = cv2.imread(content/img.jpg)\n",
        "\n",
        "    # Convert to RGB (OpenCV loads images in BGR format)\n",
        "    img = cv2.cvtColor(img, cv2.COLOR_BGR2RGB)\n",
        "\n",
        "    # Compress as JPEG (Lossy Compression)\n",
        "    cv2.imwrite(output_path_jpeg, img, [int(cv2.IMWRITE_JPEG_QUALITY), quality])\n",
        "\n",
        "    # Compress as PNG (Lossless Compression)\n",
        "    cv2.imwrite(output_path_png, img, [int(cv2.IMWRITE_PNG_COMPRESSION), 9])\n",
        "\n",
        "    print(f\"Compressed images saved as {output_path_jpeg} and {output_path_png}\")"
      ],
      "metadata": {
        "id": "lrfOmagb0ZnC"
      },
      "execution_count": 3,
      "outputs": []
    },
    {
      "cell_type": "code",
      "source": [
        "\n",
        "# Task 2: CNN on MNIST Dataset\n",
        "\n",
        "def build_mnist_cnn():\n",
        "    model = keras.Sequential([\n",
        "        layers.Conv2D(32, kernel_size=(3, 3), activation='relu', input_shape=(28, 28, 1)),\n",
        "        layers.MaxPooling2D(pool_size=(2, 2)),\n",
        "        layers.Conv2D(64, kernel_size=(3, 3), activation='relu'),\n",
        "        layers.MaxPooling2D(pool_size=(2, 2)),\n",
        "        layers.Flatten(),\n",
        "        layers.Dense(128, activation='relu'),\n",
        "        layers.Dense(10, activation='softmax')\n",
        "    ])\n",
        "\n",
        "    model.compile(optimizer='adam', loss='sparse_categorical_crossentropy', metrics=['accuracy'])\n",
        "    return model\n"
      ],
      "metadata": {
        "id": "JKP8b16O0nLH"
      },
      "execution_count": 4,
      "outputs": []
    },
    {
      "cell_type": "code",
      "source": [
        "\n",
        "# Load MNIST dataset\n",
        "(x_train, y_train), (x_test, y_test) = mnist.load_data()\n",
        "x_train, x_val, y_train, y_val = train_test_split(x_train, y_train, test_size=0.2, random_state=42)\n"
      ],
      "metadata": {
        "colab": {
          "base_uri": "https://localhost:8080/"
        },
        "id": "wa0AcBZv00aG",
        "outputId": "ee3d0f18-ab23-489e-d905-279f65b267ef"
      },
      "execution_count": 5,
      "outputs": [
        {
          "output_type": "stream",
          "name": "stdout",
          "text": [
            "Downloading data from https://storage.googleapis.com/tensorflow/tf-keras-datasets/mnist.npz\n",
            "\u001b[1m11490434/11490434\u001b[0m \u001b[32m━━━━━━━━━━━━━━━━━━━━\u001b[0m\u001b[37m\u001b[0m \u001b[1m2s\u001b[0m 0us/step\n"
          ]
        }
      ]
    },
    {
      "cell_type": "code",
      "source": [
        "# Normalize and reshape data\n",
        "x_train = x_train.reshape(-1, 28, 28, 1) / 255.0\n",
        "x_val = x_val.reshape(-1, 28, 28, 1) / 255.0\n",
        "x_test = x_test.reshape(-1, 28, 28, 1) / 255.0\n"
      ],
      "metadata": {
        "id": "xFk01eW103k5"
      },
      "execution_count": 6,
      "outputs": []
    },
    {
      "cell_type": "code",
      "source": [
        "# Train CNN on MNIST\n",
        "epochs = 10\n",
        "mnist_model = build_mnist_cnn()\n",
        "history = mnist_model.fit(x_train, y_train, epochs=epochs, validation_data=(x_val, y_val))"
      ],
      "metadata": {
        "colab": {
          "base_uri": "https://localhost:8080/"
        },
        "id": "AxAZJcfV06ve",
        "outputId": "957e326f-d37f-4bf3-8397-e1e693dcdcd7"
      },
      "execution_count": 7,
      "outputs": [
        {
          "output_type": "stream",
          "name": "stderr",
          "text": [
            "/usr/local/lib/python3.11/dist-packages/keras/src/layers/convolutional/base_conv.py:107: UserWarning: Do not pass an `input_shape`/`input_dim` argument to a layer. When using Sequential models, prefer using an `Input(shape)` object as the first layer in the model instead.\n",
            "  super().__init__(activity_regularizer=activity_regularizer, **kwargs)\n"
          ]
        },
        {
          "output_type": "stream",
          "name": "stdout",
          "text": [
            "Epoch 1/10\n",
            "\u001b[1m1500/1500\u001b[0m \u001b[32m━━━━━━━━━━━━━━━━━━━━\u001b[0m\u001b[37m\u001b[0m \u001b[1m50s\u001b[0m 32ms/step - accuracy: 0.9010 - loss: 0.3208 - val_accuracy: 0.9820 - val_loss: 0.0555\n",
            "Epoch 2/10\n",
            "\u001b[1m1500/1500\u001b[0m \u001b[32m━━━━━━━━━━━━━━━━━━━━\u001b[0m\u001b[37m\u001b[0m \u001b[1m82s\u001b[0m 32ms/step - accuracy: 0.9843 - loss: 0.0499 - val_accuracy: 0.9861 - val_loss: 0.0465\n",
            "Epoch 3/10\n",
            "\u001b[1m1500/1500\u001b[0m \u001b[32m━━━━━━━━━━━━━━━━━━━━\u001b[0m\u001b[37m\u001b[0m \u001b[1m48s\u001b[0m 32ms/step - accuracy: 0.9899 - loss: 0.0307 - val_accuracy: 0.9895 - val_loss: 0.0346\n",
            "Epoch 4/10\n",
            "\u001b[1m1500/1500\u001b[0m \u001b[32m━━━━━━━━━━━━━━━━━━━━\u001b[0m\u001b[37m\u001b[0m \u001b[1m86s\u001b[0m 35ms/step - accuracy: 0.9932 - loss: 0.0208 - val_accuracy: 0.9889 - val_loss: 0.0376\n",
            "Epoch 5/10\n",
            "\u001b[1m1500/1500\u001b[0m \u001b[32m━━━━━━━━━━━━━━━━━━━━\u001b[0m\u001b[37m\u001b[0m \u001b[1m50s\u001b[0m 33ms/step - accuracy: 0.9953 - loss: 0.0150 - val_accuracy: 0.9911 - val_loss: 0.0346\n",
            "Epoch 6/10\n",
            "\u001b[1m1500/1500\u001b[0m \u001b[32m━━━━━━━━━━━━━━━━━━━━\u001b[0m\u001b[37m\u001b[0m \u001b[1m81s\u001b[0m 32ms/step - accuracy: 0.9964 - loss: 0.0118 - val_accuracy: 0.9882 - val_loss: 0.0428\n",
            "Epoch 7/10\n",
            "\u001b[1m1500/1500\u001b[0m \u001b[32m━━━━━━━━━━━━━━━━━━━━\u001b[0m\u001b[37m\u001b[0m \u001b[1m82s\u001b[0m 32ms/step - accuracy: 0.9965 - loss: 0.0097 - val_accuracy: 0.9910 - val_loss: 0.0383\n",
            "Epoch 8/10\n",
            "\u001b[1m1500/1500\u001b[0m \u001b[32m━━━━━━━━━━━━━━━━━━━━\u001b[0m\u001b[37m\u001b[0m \u001b[1m81s\u001b[0m 32ms/step - accuracy: 0.9972 - loss: 0.0091 - val_accuracy: 0.9887 - val_loss: 0.0450\n",
            "Epoch 9/10\n",
            "\u001b[1m1500/1500\u001b[0m \u001b[32m━━━━━━━━━━━━━━━━━━━━\u001b[0m\u001b[37m\u001b[0m \u001b[1m49s\u001b[0m 32ms/step - accuracy: 0.9979 - loss: 0.0068 - val_accuracy: 0.9896 - val_loss: 0.0506\n",
            "Epoch 10/10\n",
            "\u001b[1m1500/1500\u001b[0m \u001b[32m━━━━━━━━━━━━━━━━━━━━\u001b[0m\u001b[37m\u001b[0m \u001b[1m82s\u001b[0m 32ms/step - accuracy: 0.9984 - loss: 0.0052 - val_accuracy: 0.9909 - val_loss: 0.0443\n"
          ]
        }
      ]
    },
    {
      "cell_type": "code",
      "source": [
        "mnist_predictions = mnist_model.predict(x_test).argmax(axis=1)\n",
        "print(classification_report(y_test, mnist_predictions))\n",
        "print(\"Confusion Matrix:\")\n",
        "print(confusion_matrix(y_test, mnist_predictions))\n"
      ],
      "metadata": {
        "id": "ZTxpd65L08eI",
        "colab": {
          "base_uri": "https://localhost:8080/"
        },
        "outputId": "eb0dd93d-4b3f-4c6c-c134-3072ca27e2a3"
      },
      "execution_count": 8,
      "outputs": [
        {
          "output_type": "stream",
          "name": "stdout",
          "text": [
            "\u001b[1m313/313\u001b[0m \u001b[32m━━━━━━━━━━━━━━━━━━━━\u001b[0m\u001b[37m\u001b[0m \u001b[1m6s\u001b[0m 17ms/step\n",
            "              precision    recall  f1-score   support\n",
            "\n",
            "           0       0.99      1.00      0.99       980\n",
            "           1       0.99      1.00      0.99      1135\n",
            "           2       0.99      0.99      0.99      1032\n",
            "           3       0.99      0.99      0.99      1010\n",
            "           4       1.00      0.99      0.99       982\n",
            "           5       0.98      0.99      0.99       892\n",
            "           6       0.99      0.99      0.99       958\n",
            "           7       0.99      0.98      0.99      1028\n",
            "           8       0.99      0.99      0.99       974\n",
            "           9       0.99      0.98      0.99      1009\n",
            "\n",
            "    accuracy                           0.99     10000\n",
            "   macro avg       0.99      0.99      0.99     10000\n",
            "weighted avg       0.99      0.99      0.99     10000\n",
            "\n",
            "Confusion Matrix:\n",
            "[[ 977    0    0    0    0    0    1    1    1    0]\n",
            " [   0 1135    0    0    0    0    0    0    0    0]\n",
            " [   2    1 1018    5    0    0    0    5    1    0]\n",
            " [   0    1    0 1004    0    3    0    0    2    0]\n",
            " [   0    0    0    0  972    0    3    1    1    5]\n",
            " [   1    0    0    6    0  882    1    1    1    0]\n",
            " [   1    3    0    0    1    4  946    0    3    0]\n",
            " [   0    6    6    0    0    0    0 1012    2    2]\n",
            " [   2    1    1    0    0    1    0    1  966    2]\n",
            " [   1    2    0    0    2    8    0    4    3  989]]\n"
          ]
        }
      ]
    },
    {
      "cell_type": "code",
      "source": [
        "def build_cifar10_cnn():\n",
        "    model = keras.Sequential([\n",
        "        layers.Conv2D(32, kernel_size=(3, 3), activation='relu', input_shape=(32, 32, 3)),\n",
        "        layers.MaxPooling2D(pool_size=(2, 2)),\n",
        "        layers.Conv2D(64, kernel_size=(3, 3), activation='relu'),\n",
        "        layers.MaxPooling2D(pool_size=(2, 2)),\n",
        "        layers.Flatten(),\n",
        "        layers.Dense(128, activation='relu'),\n",
        "        layers.Dense(10, activation='softmax')\n",
        "    ])\n",
        "\n",
        "    model.compile(optimizer='adam', loss='sparse_categorical_crossentropy', metrics=['accuracy'])\n",
        "    return model"
      ],
      "metadata": {
        "id": "YPgg2fF2Sh06"
      },
      "execution_count": 9,
      "outputs": []
    },
    {
      "cell_type": "code",
      "source": [
        "(x_train, y_train), (x_test, y_test) = cifar10.load_data()\n",
        "x_train, x_val, y_train, y_val = train_test_split(x_train, y_train, test_size=0.2, random_state=42)\n"
      ],
      "metadata": {
        "colab": {
          "base_uri": "https://localhost:8080/"
        },
        "id": "_PNm9yejXRF3",
        "outputId": "1ce65862-88b0-4cff-ffcc-50541e85416e"
      },
      "execution_count": 10,
      "outputs": [
        {
          "output_type": "stream",
          "name": "stdout",
          "text": [
            "Downloading data from https://www.cs.toronto.edu/~kriz/cifar-10-python.tar.gz\n",
            "\u001b[1m170498071/170498071\u001b[0m \u001b[32m━━━━━━━━━━━━━━━━━━━━\u001b[0m\u001b[37m\u001b[0m \u001b[1m12s\u001b[0m 0us/step\n"
          ]
        }
      ]
    },
    {
      "cell_type": "code",
      "source": [
        "x_train = x_train / 255.0\n",
        "x_val = x_val / 255.0\n",
        "x_test = x_test / 255.0"
      ],
      "metadata": {
        "id": "zYMWTWOPXYFk"
      },
      "execution_count": 11,
      "outputs": []
    },
    {
      "cell_type": "code",
      "source": [
        "cifar_model = build_cifar10_cnn()\n",
        "history = cifar_model.fit(x_train, y_train, epochs=epochs, validation_data=(x_val, y_val))"
      ],
      "metadata": {
        "colab": {
          "base_uri": "https://localhost:8080/"
        },
        "id": "ZGbeYivxXdEB",
        "outputId": "e2fcfee5-a4da-42e9-a7c3-af9127b76663"
      },
      "execution_count": 12,
      "outputs": [
        {
          "metadata": {
            "tags": null
          },
          "name": "stderr",
          "output_type": "stream",
          "text": [
            "/usr/local/lib/python3.11/dist-packages/keras/src/layers/convolutional/base_conv.py:107: UserWarning: Do not pass an `input_shape`/`input_dim` argument to a layer. When using Sequential models, prefer using an `Input(shape)` object as the first layer in the model instead.\n",
            "  super().__init__(activity_regularizer=activity_regularizer, **kwargs)\n"
          ]
        },
        {
          "metadata": {
            "tags": null
          },
          "name": "stdout",
          "output_type": "stream",
          "text": [
            "Epoch 1/10\n",
            "\u001b[1m1250/1250\u001b[0m \u001b[32m━━━━━━━━━━━━━━━━━━━━\u001b[0m\u001b[37m\u001b[0m \u001b[1m57s\u001b[0m 45ms/step - accuracy: 0.3916 - loss: 1.6792 - val_accuracy: 0.5530 - val_loss: 1.2695\n",
            "Epoch 2/10\n",
            "\u001b[1m1250/1250\u001b[0m \u001b[32m━━━━━━━━━━━━━━━━━━━━\u001b[0m\u001b[37m\u001b[0m \u001b[1m55s\u001b[0m 44ms/step - accuracy: 0.6004 - loss: 1.1487 - val_accuracy: 0.6157 - val_loss: 1.0877\n",
            "Epoch 3/10\n",
            "\u001b[1m1250/1250\u001b[0m \u001b[32m━━━━━━━━━━━━━━━━━━━━\u001b[0m\u001b[37m\u001b[0m \u001b[1m83s\u001b[0m 45ms/step - accuracy: 0.6564 - loss: 0.9839 - val_accuracy: 0.6571 - val_loss: 0.9857\n",
            "Epoch 4/10\n",
            "\u001b[1m1250/1250\u001b[0m \u001b[32m━━━━━━━━━━━━━━━━━━━━\u001b[0m\u001b[37m\u001b[0m \u001b[1m81s\u001b[0m 44ms/step - accuracy: 0.6960 - loss: 0.8734 - val_accuracy: 0.6546 - val_loss: 0.9923\n",
            "Epoch 5/10\n",
            "\u001b[1m1250/1250\u001b[0m \u001b[32m━━━━━━━━━━━━━━━━━━━━\u001b[0m\u001b[37m\u001b[0m \u001b[1m84s\u001b[0m 45ms/step - accuracy: 0.7289 - loss: 0.7766 - val_accuracy: 0.6741 - val_loss: 0.9472\n",
            "Epoch 6/10\n",
            "\u001b[1m1250/1250\u001b[0m \u001b[32m━━━━━━━━━━━━━━━━━━━━\u001b[0m\u001b[37m\u001b[0m \u001b[1m81s\u001b[0m 45ms/step - accuracy: 0.7500 - loss: 0.7150 - val_accuracy: 0.6645 - val_loss: 0.9953\n",
            "Epoch 7/10\n",
            "\u001b[1m1250/1250\u001b[0m \u001b[32m━━━━━━━━━━━━━━━━━━━━\u001b[0m\u001b[37m\u001b[0m \u001b[1m81s\u001b[0m 44ms/step - accuracy: 0.7777 - loss: 0.6433 - val_accuracy: 0.6844 - val_loss: 0.9507\n",
            "Epoch 8/10\n",
            "\u001b[1m1250/1250\u001b[0m \u001b[32m━━━━━━━━━━━━━━━━━━━━\u001b[0m\u001b[37m\u001b[0m \u001b[1m84s\u001b[0m 46ms/step - accuracy: 0.7986 - loss: 0.5734 - val_accuracy: 0.6799 - val_loss: 0.9903\n",
            "Epoch 9/10\n",
            "\u001b[1m1250/1250\u001b[0m \u001b[32m━━━━━━━━━━━━━━━━━━━━\u001b[0m\u001b[37m\u001b[0m \u001b[1m80s\u001b[0m 44ms/step - accuracy: 0.8200 - loss: 0.5125 - val_accuracy: 0.6849 - val_loss: 1.0197\n",
            "Epoch 10/10\n",
            "\u001b[1m1250/1250\u001b[0m \u001b[32m━━━━━━━━━━━━━━━━━━━━\u001b[0m\u001b[37m\u001b[0m \u001b[1m79s\u001b[0m 42ms/step - accuracy: 0.8396 - loss: 0.4551 - val_accuracy: 0.6875 - val_loss: 1.0158\n"
          ]
        }
      ]
    },
    {
      "cell_type": "code",
      "source": [
        "cifar_predictions = cifar_model.predict(x_test).argmax(axis=1)\n",
        "print(classification_report(y_test, cifar_predictions))\n",
        "print(\"Confusion Matrix:\")\n",
        "print(confusion_matrix(y_test, cifar_predictions))"
      ],
      "metadata": {
        "colab": {
          "base_uri": "https://localhost:8080/"
        },
        "id": "RdBqxMQwXe82",
        "outputId": "93105e47-0faf-489b-c6b5-9eb6dc311f5e"
      },
      "execution_count": 13,
      "outputs": [
        {
          "output_type": "stream",
          "name": "stdout",
          "text": [
            "\u001b[1m313/313\u001b[0m \u001b[32m━━━━━━━━━━━━━━━━━━━━\u001b[0m\u001b[37m\u001b[0m \u001b[1m7s\u001b[0m 23ms/step\n",
            "              precision    recall  f1-score   support\n",
            "\n",
            "           0       0.77      0.71      0.74      1000\n",
            "           1       0.80      0.80      0.80      1000\n",
            "           2       0.53      0.67      0.59      1000\n",
            "           3       0.52      0.46      0.49      1000\n",
            "           4       0.56      0.69      0.62      1000\n",
            "           5       0.61      0.55      0.58      1000\n",
            "           6       0.77      0.75      0.76      1000\n",
            "           7       0.80      0.70      0.75      1000\n",
            "           8       0.79      0.81      0.80      1000\n",
            "           9       0.79      0.75      0.77      1000\n",
            "\n",
            "    accuracy                           0.69     10000\n",
            "   macro avg       0.69      0.69      0.69     10000\n",
            "weighted avg       0.69      0.69      0.69     10000\n",
            "\n",
            "Confusion Matrix:\n",
            "[[713  30  74  17  45   4   9  10  73  25]\n",
            " [ 17 798  18  15  11   7  16   5  29  84]\n",
            " [ 46   3 666  52 101  43  41  20  15  13]\n",
            " [ 19   6 111 459 117 165  60  28  20  15]\n",
            " [ 14   3 108  46 694  28  36  48  19   4]\n",
            " [ 10   5 102 173  71 552  31  33  11  12]\n",
            " [  7   8  67  59  68  26 747   6  10   2]\n",
            " [ 12   1  50  43 101  63   6 696   8  20]\n",
            " [ 54  39  28   9  18   7  10   5 807  23]\n",
            " [ 29 100  24  13  13  12  11  17  35 746]]\n"
          ]
        }
      ]
    },
    {
      "cell_type": "code",
      "source": [],
      "metadata": {
        "id": "MKTGtWkbafUj"
      },
      "execution_count": null,
      "outputs": []
    }
  ]
}