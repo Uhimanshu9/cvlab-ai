{
  "nbformat": 4,
  "nbformat_minor": 0,
  "metadata": {
    "colab": {
      "provenance": []
    },
    "kernelspec": {
      "name": "python3",
      "display_name": "Python 3"
    },
    "language_info": {
      "name": "python"
    }
  },
  "cells": [
    {
      "cell_type": "code",
      "source": [
        "import cv2\n",
        "import numpy as np\n",
        "image = cv2.imread('girlimg.png')\n",
        "\n",
        "new_width, new_height = 200, 200\n",
        "# Resizing\n",
        "linear_resized = cv2.resize(image, (new_width, new_height), interpolation=cv2.INTER_LINEAR)\n",
        "nearest_resized = cv2.resize(image, (new_width, new_height), interpolation=cv2.INTER_NEAREST)\n",
        "polynomial_resized = cv2.resize(image, (new_width, new_height), interpolation=cv2.INTER_CUBIC)\n"
      ],
      "metadata": {
        "id": "C6_KHApSfNIG"
      },
      "execution_count": 8,
      "outputs": []
    },
    {
      "cell_type": "code",
      "source": [
        "gaussian_blurred = cv2.GaussianBlur(image, (5, 5), 0)"
      ],
      "metadata": {
        "id": "cjfySRg3futG"
      },
      "execution_count": 2,
      "outputs": []
    },
    {
      "cell_type": "code",
      "source": [
        "from sklearn.datasets import load_digits\n",
        "from sklearn.model_selection import train_test_split\n",
        "from sklearn.model_selection import KFold\n",
        "from sklearn.metrics import accuracy_score, confusion_matrix, precision_score, recall_score, f1_score\n",
        "\n",
        "digits = load_digits()\n",
        "X = digits.data\n",
        "y = digits.target"
      ],
      "metadata": {
        "id": "5yx4d1gkfz1p"
      },
      "execution_count": 3,
      "outputs": []
    },
    {
      "cell_type": "code",
      "source": [
        "import pandas as pd\n",
        "from sklearn.model_selection import train_test_split\n",
        "\n",
        "\n",
        "data = pd.read_csv('/content/mnist_test.csv')\n",
        "X = data.drop('label', axis=1).values\n",
        "y = data['label'].values\n"
      ],
      "metadata": {
        "id": "fItiyB7Sf-rV"
      },
      "execution_count": 4,
      "outputs": []
    },
    {
      "cell_type": "code",
      "source": [
        "from sklearn.svm import SVC\n",
        "from sklearn.naive_bayes import GaussianNB\n",
        "from sklearn.model_selection import cross_val_score\n",
        "\n",
        "# Create model\n",
        "svm = SVC(kernel='linear')\n",
        "nb = GaussianNB()\n",
        "\n",
        "# Evaluate model using KFold cross-validation\n",
        "cv = KFold(n_splits=5, shuffle=True)\n",
        "\n",
        "svm_scores = cross_val_score(svm, X, y, cv=cv, scoring='accuracy')\n",
        "nb_scores = cross_val_score(nb, X, y, cv=cv, scoring='accuracy')\n",
        "\n",
        "print('SVM Accuracy:', svm_scores.mean())\n",
        "print('Naive Bayes Accuracy:', nb_scores.mean())\n"
      ],
      "metadata": {
        "colab": {
          "base_uri": "https://localhost:8080/"
        },
        "id": "2BDnOWIkhPy4",
        "outputId": "1b8bc179-9302-40a0-f659-01799456837f"
      },
      "execution_count": 5,
      "outputs": [
        {
          "output_type": "stream",
          "name": "stdout",
          "text": [
            "SVM Accuracy: 0.9225999999999999\n",
            "Naive Bayes Accuracy: 0.5691999999999999\n"
          ]
        }
      ]
    },
    {
      "cell_type": "code",
      "source": [
        "from sklearn.metrics import classification_report, roc_auc_score, roc_curve, accuracy_score, precision_score, recall_score, f1_score, confusion_matrix\n",
        "import matplotlib.pyplot as plt\n",
        "from sklearn import datasets\n",
        "from sklearn.model_selection import train_test_split\n",
        "from sklearn.svm import SVC\n",
        "\n",
        "mnist = datasets.load_digits()\n",
        "\n",
        "X = mnist.data\n",
        "y = mnist.target\n",
        "\n",
        "X_train, X_test, y_train, y_test = train_test_split(X, y, test_size=0.2, random_state=42)\n",
        "\n",
        "svm = SVC(kernel='linear', probability=True)\n",
        "svm.fit(X_train, y_train)\n",
        "\n",
        "y_pred = svm.predict(X_test)\n",
        "y_probs = svm.predict_proba(X_test)\n",
        "\n",
        "print('Accuracy:', accuracy_score(y_test, y_pred))\n",
        "print('Precision:', precision_score(y_test, y_pred, average='macro'))\n",
        "print('Recall:', recall_score(y_test, y_pred, average='macro'))\n",
        "print('F1-Score:', f1_score(y_test, y_pred, average='macro'))\n",
        "print('Confusion Matrix:\\n', confusion_matrix(y_test, y_pred))\n",
        "\n",
        "auc = roc_auc_score(y_test, y_probs, multi_class='ovr')\n",
        "print('AUC:', auc)\n",
        "\n",
        "fpr, tpr, _ = roc_curve(y_test == 1, y_probs[:, 1])\n",
        "plt.plot(fpr, tpr, label='SVM (Class 1)')\n",
        "plt.xlabel('False Positive Rate')\n",
        "plt.ylabel('True Positive Rate')\n",
        "plt.title('ROC Curve')\n",
        "plt.legend()\n",
        "plt.show()\n"
      ],
      "metadata": {
        "colab": {
          "base_uri": "https://localhost:8080/",
          "height": 762
        },
        "id": "-Kd15v_WhWe0",
        "outputId": "3e10efe6-9748-45a8-a387-83eedaf45d8f"
      },
      "execution_count": 14,
      "outputs": [
        {
          "output_type": "stream",
          "name": "stdout",
          "text": [
            "Accuracy: 0.9777777777777777\n",
            "Precision: 0.9791964938122952\n",
            "Recall: 0.9781692242114237\n",
            "F1-Score: 0.9785455500691013\n",
            "Confusion Matrix:\n",
            " [[33  0  0  0  0  0  0  0  0  0]\n",
            " [ 0 28  0  0  0  0  0  0  0  0]\n",
            " [ 0  0 33  0  0  0  0  0  0  0]\n",
            " [ 0  0  0 32  0  1  0  0  0  1]\n",
            " [ 0  1  0  0 45  0  0  0  0  0]\n",
            " [ 0  0  0  0  0 47  0  0  0  0]\n",
            " [ 0  0  0  0  0  0 35  0  0  0]\n",
            " [ 0  0  0  0  0  0  0 33  0  1]\n",
            " [ 0  0  0  0  0  1  0  0 29  0]\n",
            " [ 0  0  0  1  1  0  0  1  0 37]]\n",
            "AUC: 0.999825026158258\n"
          ]
        },
        {
          "output_type": "display_data",
          "data": {
            "text/plain": [
              "<Figure size 640x480 with 1 Axes>"
            ],
            "image/png": "[encoded data removed]"
          },
          "metadata": {}
        }
      ]
    },
    {
      "cell_type": "code",
      "source": [],
      "metadata": {
        "id": "Gh5_LOFhh_jt"
      },
      "execution_count": null,
      "outputs": []
    }
  ]
}